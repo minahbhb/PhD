{
 "cells": [
  {
   "cell_type": "markdown",
   "metadata": {
    "colab_type": "text",
    "id": "k7sePAkWpLJV"
   },
   "source": [
    "# Saving and Loading Models\n",
    "\n",
    "In this notebook, we'll see how to save and load models with TensorFlow. This is important because you'll often want to load previously trained models to use in making predictions or to continue training on new data."
   ]
  },
  {
   "cell_type": "markdown",
   "metadata": {
    "colab_type": "text",
    "id": "tD856SqhH4JK"
   },
   "source": [
    "## Import Resources"
   ]
  },
  {
   "cell_type": "code",
   "execution_count": 1,
   "metadata": {},
   "outputs": [],
   "source": [
    "import warnings\n",
    "warnings.filterwarnings('ignore')"
   ]
  },
  {
   "cell_type": "code",
   "execution_count": 2,
   "metadata": {
    "colab": {},
    "colab_type": "code",
    "id": "Hsu5egUUqPg9"
   },
   "outputs": [],
   "source": [
    "%matplotlib inline\n",
    "%config InlineBackend.figure_format = 'retina'\n",
    "\n",
    "import time\n",
    "import numpy as np\n",
    "import matplotlib.pyplot as plt\n",
    "\n",
    "import tensorflow as tf\n",
    "import tensorflow_datasets as tfds\n",
    "tfds.disable_progress_bar()"
   ]
  },
  {
   "cell_type": "code",
   "execution_count": 3,
   "metadata": {},
   "outputs": [],
   "source": [
    "import logging\n",
    "logger = tf.get_logger()\n",
    "logger.setLevel(logging.ERROR)"
   ]
  },
  {
   "cell_type": "code",
   "execution_count": 4,
   "metadata": {
    "colab": {
     "base_uri": "https://localhost:8080/",
     "height": 85
    },
    "colab_type": "code",
    "id": "BqsrWYDKp4Fd",
    "outputId": "5fe90392-c56f-423f-bc89-b9fc985feecf"
   },
   "outputs": [
    {
     "name": "stdout",
     "output_type": "stream",
     "text": [
      "Using:\n",
      "\t• TensorFlow version: 2.6.2\n",
      "\t• tf.keras version: 2.6.0\n",
      "\t• GPU device not found. Running on CPU\n"
     ]
    }
   ],
   "source": [
    "print('Using:')\n",
    "print('\\t\\u2022 TensorFlow version:', tf.__version__)\n",
    "print('\\t\\u2022 tf.keras version:', tf.keras.__version__)\n",
    "print('\\t\\u2022 Running on GPU' if tf.test.is_gpu_available() else '\\t\\u2022 GPU device not found. Running on CPU')"
   ]
  },
  {
   "cell_type": "markdown",
   "metadata": {
    "colab_type": "text",
    "id": "dAe81nXoICzC"
   },
   "source": [
    "## Load the Dataset"
   ]
  },
  {
   "cell_type": "code",
   "execution_count": 6,
   "metadata": {
    "colab": {
     "base_uri": "https://localhost:8080/",
     "height": 207
    },
    "colab_type": "code",
    "id": "bxcg_ZbuLnM3",
    "outputId": "33841a52-53e6-4e8a-ecbd-b448bf3c46f5"
   },
   "outputs": [],
   "source": [
    "train_split = 60\n",
    "test_val_split = 20\n",
    "splits=['train[:60%] + test[:60%]','train[60%:80%] + test[60%:80%]', 'train[80%:] + test[80%:]']\n",
    "\n",
    "dataset, dataset_info = tfds.load('fashion_mnist', split=splits, as_supervised=True, with_info=True)\n",
    "\n",
    "training_set, validation_set, test_set = dataset"
   ]
  },
  {
   "cell_type": "markdown",
   "metadata": {
    "colab_type": "text",
    "id": "z1WhOLC7Ii3D"
   },
   "source": [
    "## Explore the Dataset"
   ]
  },
  {
   "cell_type": "code",
   "execution_count": 7,
   "metadata": {
    "colab": {
     "base_uri": "https://localhost:8080/",
     "height": 68
    },
    "colab_type": "code",
    "id": "9i2586KjI4QM",
    "outputId": "24ccc17a-c3f6-44ba-edc3-ae267e628fc2"
   },
   "outputs": [
    {
     "name": "stdout",
     "output_type": "stream",
     "text": [
      "There are 42,000 images in the training set\n",
      "There are 14,000 images in the validation set\n",
      "There are 14,000 images in the test set\n"
     ]
    }
   ],
   "source": [
    "total_examples = dataset_info.splits['train'].num_examples + dataset_info.splits['test'].num_examples\n",
    "\n",
    "num_training_examples = (total_examples * train_split) // 100\n",
    "num_validation_examples = (total_examples * test_val_split) // 100\n",
    "num_test_examples = num_validation_examples\n",
    "\n",
    "print('There are {:,} images in the training set'.format(num_training_examples))\n",
    "print('There are {:,} images in the validation set'.format(num_validation_examples))\n",
    "print('There are {:,} images in the test set'.format(num_test_examples))"
   ]
  },
  {
   "cell_type": "code",
   "execution_count": 8,
   "metadata": {
    "colab": {},
    "colab_type": "code",
    "id": "RLMJCpppq43U"
   },
   "outputs": [],
   "source": [
    "class_names = ['T-shirt/top', 'Trouser', 'Pullover', 'Dress', 'Coat', \n",
    "               'Sandal',      'Shirt',   'Sneaker',  'Bag',   'Ankle boot']"
   ]
  },
  {
   "cell_type": "code",
   "execution_count": 9,
   "metadata": {
    "colab": {
     "base_uri": "https://localhost:8080/",
     "height": 280
    },
    "colab_type": "code",
    "id": "PeU9nb_xqW98",
    "outputId": "7e35ce36-2589-4b3e-b2bf-313eaa2414f0"
   },
   "outputs": [
    {
     "data": {
      "image/png": "[encoded data removed]",
      "text/plain": [
       "<Figure size 432x288 with 2 Axes>"
      ]
     },
     "metadata": {
      "image/png": {
       "height": 263,
       "width": 305
      },
      "needs_background": "light"
     },
     "output_type": "display_data"
    }
   ],
   "source": [
    "for image, label in training_set.take(1):\n",
    "    image = image.numpy().squeeze()\n",
    "    label = label.numpy()\n",
    "\n",
    "plt.imshow(image, cmap=plt.cm.binary)\n",
    "plt.title(class_names[label])\n",
    "plt.colorbar()\n",
    "plt.show()"
   ]
  },
  {
   "cell_type": "markdown",
   "metadata": {
    "colab_type": "text",
    "id": "k5rUDqxBIt5N"
   },
   "source": [
    "## Create Pipeline"
   ]
  },
  {
   "cell_type": "code",
   "execution_count": 10,
   "metadata": {
    "colab": {},
    "colab_type": "code",
    "id": "Ec3uphcyci3c"
   },
   "outputs": [],
   "source": [
    "def normalize(image, label):\n",
    "    image = tf.cast(image, tf.float32)\n",
    "    image /= 255\n",
    "    return image, label\n",
    "\n",
    "batch_size = 64\n",
    "\n",
    "training_batches = training_set.cache().shuffle(num_training_examples//4).batch(batch_size).map(normalize).prefetch(1)\n",
    "validation_batches = validation_set.cache().batch(batch_size).map(normalize).prefetch(1)\n",
    "testing_batches = test_set.cache().batch(batch_size).map(normalize).prefetch(1)"
   ]
  },
  {
   "cell_type": "markdown",
   "metadata": {
    "colab_type": "text",
    "id": "ySQuJ-iPqNoR"
   },
   "source": [
    "## Build and Train the Model\n",
    "\n",
    "Here we'll build and compile our model as usual."
   ]
  },
  {
   "cell_type": "code",
   "execution_count": 11,
   "metadata": {
    "colab": {
     "base_uri": "https://localhost:8080/",
     "height": 425
    },
    "colab_type": "code",
    "id": "47Vnu0KJMqwc",
    "outputId": "f1abd9d1-db9e-4bfd-99c7-d4376adb8745"
   },
   "outputs": [
    {
     "name": "stdout",
     "output_type": "stream",
     "text": [
      "Model: \"sequential\"\n",
      "_________________________________________________________________\n",
      "Layer (type)                 Output Shape              Param #   \n",
      "=================================================================\n",
      "flatten (Flatten)            (None, 784)               0         \n",
      "_________________________________________________________________\n",
      "dense (Dense)                (None, 512)               401920    \n",
      "_________________________________________________________________\n",
      "dropout (Dropout)            (None, 512)               0         \n",
      "_________________________________________________________________\n",
      "dense_1 (Dense)              (None, 256)               131328    \n",
      "_________________________________________________________________\n",
      "dropout_1 (Dropout)          (None, 256)               0         \n",
      "_________________________________________________________________\n",
      "dense_2 (Dense)              (None, 128)               32896     \n",
      "_________________________________________________________________\n",
      "dropout_2 (Dropout)          (None, 128)               0         \n",
      "_________________________________________________________________\n",
      "dense_3 (Dense)              (None, 10)                1290      \n",
      "=================================================================\n",
      "Total params: 567,434\n",
      "Trainable params: 567,434\n",
      "Non-trainable params: 0\n",
      "_________________________________________________________________\n"
     ]
    }
   ],
   "source": [
    "layer_neurons = [512, 256, 128]\n",
    "\n",
    "dropout_rate = 0.5\n",
    "\n",
    "model = tf.keras.Sequential()\n",
    "\n",
    "model.add(tf.keras.layers.Flatten(input_shape=(28,28,1)))\n",
    "\n",
    "for neurons in layer_neurons:\n",
    "    model.add(tf.keras.layers.Dense(neurons, activation = 'relu'))\n",
    "    model.add(tf.keras.layers.Dropout(dropout_rate))\n",
    "\n",
    "model.add(tf.keras.layers.Dense(10, activation = 'softmax'))\n",
    "\n",
    "model.summary()"
   ]
  },
  {
   "cell_type": "code",
   "execution_count": 13,
   "metadata": {},
   "outputs": [
    {
     "ename": "AttributeError",
     "evalue": "'PrefetchDataset' object has no attribute 'shape'",
     "output_type": "error",
     "traceback": [
      "\u001b[1;31m---------------------------------------------------------------------------\u001b[0m",
      "\u001b[1;31mAttributeError\u001b[0m                            Traceback (most recent call last)",
      "\u001b[1;32m<ipython-input-13-2bd8f0e90026>\u001b[0m in \u001b[0;36m<module>\u001b[1;34m\u001b[0m\n\u001b[1;32m----> 1\u001b[1;33m \u001b[0mtraining_batches\u001b[0m\u001b[1;33m.\u001b[0m\u001b[0mshape\u001b[0m\u001b[1;33m\u001b[0m\u001b[1;33m\u001b[0m\u001b[0m\n\u001b[0m",
      "\u001b[1;31mAttributeError\u001b[0m: 'PrefetchDataset' object has no attribute 'shape'"
     ]
    }
   ],
   "source": [
    "training_batches.shape"
   ]
  },
  {
   "cell_type": "code",
   "execution_count": 14,
   "metadata": {
    "colab": {
     "base_uri": "https://localhost:8080/",
     "height": 153
    },
    "colab_type": "code",
    "id": "1qLJ-cAwnmFD",
    "outputId": "32be0a8a-5cfb-473f-872c-e09da279eae5"
   },
   "outputs": [
    {
     "name": "stdout",
     "output_type": "stream",
     "text": [
      "Epoch 1/4\n",
      "657/657 [==============================] - 6s 9ms/step - loss: 0.8442 - accuracy: 0.6897 - val_loss: 0.5034 - val_accuracy: 0.8171\n",
      "Epoch 2/4\n",
      "657/657 [==============================] - 5s 7ms/step - loss: 0.5750 - accuracy: 0.7972 - val_loss: 0.4659 - val_accuracy: 0.8271\n",
      "Epoch 3/4\n",
      "657/657 [==============================] - 5s 7ms/step - loss: 0.5242 - accuracy: 0.8165 - val_loss: 0.4297 - val_accuracy: 0.8455\n",
      "Epoch 4/4\n",
      "657/657 [==============================] - 5s 7ms/step - loss: 0.4987 - accuracy: 0.8236 - val_loss: 0.4179 - val_accuracy: 0.8473\n"
     ]
    }
   ],
   "source": [
    "model.compile(optimizer='adam',\n",
    "              loss='sparse_categorical_crossentropy',\n",
    "              metrics=['accuracy'])\n",
    "\n",
    "EPOCHS = 4\n",
    "\n",
    "history = model.fit(training_batches,\n",
    "                    epochs=EPOCHS,\n",
    "                    validation_data=validation_batches)"
   ]
  },
  {
   "cell_type": "markdown",
   "metadata": {
    "colab_type": "text",
    "id": "jseIvfe2xb56"
   },
   "source": [
    "## Saving and Loading Models\n",
    "\n",
    "In TensorFlow we can save our trained models in different formats. Here we will see how to save our models in TensorFlow's SavedModel format and as HDF5 files, which is the format used by Keras models.\n",
    "\n",
    "### Saving and Loading Models in HDF5 Format\n",
    "\n",
    "To save our models in the format used by Keras models we use the `.save(filepath)` method. For example, to save a model called `my_model` in the current working directory with the name `test_model` we use:\n",
    "\n",
    "```python\n",
    "my_model.save('./test_model.h5')\n",
    "```\n",
    "\n",
    "It's important to note that we have to provide the `.h5` extension to the `filepath` in order the tell `tf.keras` to save our model as an HDF5 file. \n",
    "\n",
    "The above command saves our model into a single HDF5 file that will contain:\n",
    "\n",
    "* The model's architecture.\n",
    "* The model's weight values which were learned during training.\n",
    "* The model's training configuration, which corresponds to the parameters you passed to the `compile` method.\n",
    "* The optimizer and its state. This allows you to resume training exactly where you left off.\n",
    "\n",
    "\n",
    "In the cell below we save our trained `model` as an HDF5 file. The name of our HDF5 will correspond to the current time stamp. This is useful if you are saving many models and want each of them to have a unique name. By default the `.save()` method will **silently** overwrite any existing file at the target location with the same name. If we want `tf.keras` to provide us with a manual prompt to whether overwrite files with the same name, you can set the argument `overwrite=False` in the `.save()` method."
   ]
  },
  {
   "cell_type": "code",
   "execution_count": 15,
   "metadata": {
    "colab": {},
    "colab_type": "code",
    "id": "G1dOvNRvrhNa"
   },
   "outputs": [],
   "source": [
    "t = time.time()\n",
    "\n",
    "saved_keras_model_filepath = './{}.h5'.format(int(t))\n",
    "\n",
    "model.save(saved_keras_model_filepath)"
   ]
  },
  {
   "cell_type": "markdown",
   "metadata": {
    "colab_type": "text",
    "id": "lGNRBb1puSRg"
   },
   "source": [
    "Once a model has been saved, we can use `tf.keras.models.load_model(filepath)` to re-load our model. This command will also compile our model automatically using the saved training configuration, unless the model was never compiled in the first place."
   ]
  },
  {
   "cell_type": "code",
   "execution_count": 14,
   "metadata": {
    "colab": {
     "base_uri": "https://localhost:8080/",
     "height": 547
    },
    "colab_type": "code",
    "id": "akaAVE2js5d0",
    "outputId": "84301998-a6c3-4a55-c5f1-f76d086290bf"
   },
   "outputs": [
    {
     "name": "stdout",
     "output_type": "stream",
     "text": [
      "Model: \"sequential\"\n",
      "_________________________________________________________________\n",
      "Layer (type)                 Output Shape              Param #   \n",
      "=================================================================\n",
      "flatten (Flatten)            (None, 784)               0         \n",
      "_________________________________________________________________\n",
      "dense (Dense)                (None, 512)               401920    \n",
      "_________________________________________________________________\n",
      "dropout (Dropout)            (None, 512)               0         \n",
      "_________________________________________________________________\n",
      "dense_1 (Dense)              (None, 256)               131328    \n",
      "_________________________________________________________________\n",
      "dropout_1 (Dropout)          (None, 256)               0         \n",
      "_________________________________________________________________\n",
      "dense_2 (Dense)              (None, 128)               32896     \n",
      "_________________________________________________________________\n",
      "dropout_2 (Dropout)          (None, 128)               0         \n",
      "_________________________________________________________________\n",
      "dense_3 (Dense)              (None, 10)                1290      \n",
      "=================================================================\n",
      "Total params: 567,434\n",
      "Trainable params: 567,434\n",
      "Non-trainable params: 0\n",
      "_________________________________________________________________\n"
     ]
    }
   ],
   "source": [
    "reloaded_keras_model = tf.keras.models.load_model(saved_keras_model_filepath)\n",
    "\n",
    "reloaded_keras_model.summary()"
   ]
  },
  {
   "cell_type": "markdown",
   "metadata": {
    "colab_type": "text",
    "id": "xWihP1oMjNeF"
   },
   "source": [
    "As we can see the re-loaded model has the same architecture as our original model, as it should be. At this point, since we haven't done anything new to the re-loaded model, then both the `reloaded_keras_model` our original `model` should be identical copies. Therefore, they should make the same predictions on the same images. Let's check that this is true:"
   ]
  },
  {
   "cell_type": "code",
   "execution_count": 15,
   "metadata": {
    "colab": {
     "base_uri": "https://localhost:8080/",
     "height": 34
    },
    "colab_type": "code",
    "id": "gLQsw7QVkElc",
    "outputId": "0d00e16b-9fdd-4d34-b9ab-96956ddbf5a5"
   },
   "outputs": [
    {
     "name": "stdout",
     "output_type": "stream",
     "text": [
      "0.0\n"
     ]
    }
   ],
   "source": [
    "for image_batch, label_batch in testing_batches.take(1):\n",
    "    prediction_1 = model.predict(image_batch)\n",
    "    prediction_2 = reloaded_keras_model.predict(image_batch)\n",
    "    difference = np.abs(prediction_1 - prediction_2)\n",
    "    print(difference.max())"
   ]
  },
  {
   "cell_type": "markdown",
   "metadata": {
    "colab_type": "text",
    "id": "K-dDOY0BmYhs"
   },
   "source": [
    "As we can see, the result is 0.0, which indicates that both models made the same predictions on the same images."
   ]
  },
  {
   "cell_type": "markdown",
   "metadata": {
    "colab_type": "text",
    "id": "lxHdz18pQUNV"
   },
   "source": [
    "### Saving and Loading TensorFlow SavedModels"
   ]
  },
  {
   "cell_type": "markdown",
   "metadata": {
    "colab_type": "text",
    "id": "OGtK83g2vVki"
   },
   "source": [
    "To export our models to the TensorFlow **SavedModel** format, we use the `tf.saved_model.save(model, export_dir)` function. For example, to save a model called `my_model` in a folder called `saved_models` located in the current working directory we use:\n",
    "\n",
    "```python\n",
    "tf.saved_model.save(my_model, './saved_models')\n",
    "```\n",
    "\n",
    "It's important to note that here we have to provide the path to the directory where we want to save our model, **NOT** the name of the file. This is because SavedModels are not saved in a single file. Rather, when you save your model as a SavedModel, `the tf.saved_model.save()` function will create an `assets` folder, a `variables` folder, and a `saved_model.pb` file inside the directory you provided.\n",
    "\n",
    "The SavedModel files that are created contain:\n",
    "\n",
    "* A TensorFlow checkpoint containing the model weights.\n",
    "* A SavedModel proto containing the underlying TensorFlow graph. Separate graphs are saved for prediction (serving), training, and evaluation. If the model wasn't compiled before, then only the inference graph gets exported.\n",
    "* The model's architecture configuration if available.\n",
    "\n",
    "The SavedModel is a standalone serialization format for TensorFlow objects, supported by TensorFlow serving as well as TensorFlow implementations other than Python. It does not require the original model building code to run, which makes it useful for sharing or deploying in different platforms, such as mobile and embedded devices (with TensorFlow Lite), servers (with TensorFlow Serving), and even web browsers (with TensorFlow.js).\n",
    "\n",
    "In the cell below we save our trained model as a SavedModel. The name of the folder where we are going to save our model will correspond to the current time stamp. Again, this is useful if you are saving many models and want each of them to be saved in a unique directory."
   ]
  },
  {
   "cell_type": "code",
   "execution_count": 16,
   "metadata": {
    "colab": {
     "base_uri": "https://localhost:8080/",
     "height": 173
    },
    "colab_type": "code",
    "collapsed": true,
    "id": "V2C0F3luxzlI",
    "outputId": "80a362e5-008f-4f54-ffb5-0b5577b5c46b"
   },
   "outputs": [
    {
     "name": "stdout",
     "output_type": "stream",
     "text": [
      "WARNING: Entity <function Function._initialize_uninitialized_variables.<locals>.initialize_variables at 0x7f40642202f0> could not be transformed and will be executed as-is. Please report this to the AutoGraph team. When filing the bug, set the verbosity to 10 (on Linux, `export AUTOGRAPH_VERBOSITY=10`) and attach the full output. Cause: converting <function Function._initialize_uninitialized_variables.<locals>.initialize_variables at 0x7f40642202f0>: AttributeError: module 'gast' has no attribute 'Num'\n",
      "WARNING: Entity <function _wrap_call_and_conditional_losses.<locals>.call_and_return_conditional_losses at 0x7f40649c39d8> could not be transformed and will be executed as-is. Please report this to the AutoGraph team. When filing the bug, set the verbosity to 10 (on Linux, `export AUTOGRAPH_VERBOSITY=10`) and attach the full output. Cause: converting <function _wrap_call_and_conditional_losses.<locals>.call_and_return_conditional_losses at 0x7f40649c39d8>: AssertionError: Bad argument number for Name: 3, expecting 4\n",
      "WARNING: Entity <function _wrap_call_and_conditional_losses.<locals>.call_and_return_conditional_losses at 0x7f405150f378> could not be transformed and will be executed as-is. Please report this to the AutoGraph team. When filing the bug, set the verbosity to 10 (on Linux, `export AUTOGRAPH_VERBOSITY=10`) and attach the full output. Cause: converting <function _wrap_call_and_conditional_losses.<locals>.call_and_return_conditional_losses at 0x7f405150f378>: AssertionError: Bad argument number for Name: 3, expecting 4\n",
      "WARNING: Entity <function Function._initialize_uninitialized_variables.<locals>.initialize_variables at 0x7f40649f6378> could not be transformed and will be executed as-is. Please report this to the AutoGraph team. When filing the bug, set the verbosity to 10 (on Linux, `export AUTOGRAPH_VERBOSITY=10`) and attach the full output. Cause: converting <function Function._initialize_uninitialized_variables.<locals>.initialize_variables at 0x7f40649f6378>: AttributeError: module 'gast' has no attribute 'Num'\n",
      "WARNING: Entity <function _extract_outputs_from_fn.<locals>.call at 0x7f405150f488> could not be transformed and will be executed as-is. Please report this to the AutoGraph team. When filing the bug, set the verbosity to 10 (on Linux, `export AUTOGRAPH_VERBOSITY=10`) and attach the full output. Cause: converting <function _extract_outputs_from_fn.<locals>.call at 0x7f405150f488>: AttributeError: module 'gast' has no attribute 'Num'\n",
      "WARNING: Entity <function Function._initialize_uninitialized_variables.<locals>.initialize_variables at 0x7f40649dfc80> could not be transformed and will be executed as-is. Please report this to the AutoGraph team. When filing the bug, set the verbosity to 10 (on Linux, `export AUTOGRAPH_VERBOSITY=10`) and attach the full output. Cause: converting <function Function._initialize_uninitialized_variables.<locals>.initialize_variables at 0x7f40649dfc80>: AttributeError: module 'gast' has no attribute 'Num'\n",
      "WARNING: Entity <function _wrap_call_and_conditional_losses.<locals>.call_and_return_conditional_losses at 0x7f405150f268> could not be transformed and will be executed as-is. Please report this to the AutoGraph team. When filing the bug, set the verbosity to 10 (on Linux, `export AUTOGRAPH_VERBOSITY=10`) and attach the full output. Cause: converting <function _wrap_call_and_conditional_losses.<locals>.call_and_return_conditional_losses at 0x7f405150f268>: AssertionError: Bad argument number for Name: 3, expecting 4\n",
      "WARNING: Entity <function Function._initialize_uninitialized_variables.<locals>.initialize_variables at 0x7f406494d730> could not be transformed and will be executed as-is. Please report this to the AutoGraph team. When filing the bug, set the verbosity to 10 (on Linux, `export AUTOGRAPH_VERBOSITY=10`) and attach the full output. Cause: converting <function Function._initialize_uninitialized_variables.<locals>.initialize_variables at 0x7f406494d730>: AttributeError: module 'gast' has no attribute 'Num'\n",
      "WARNING: Entity <function _extract_outputs_from_fn.<locals>.call at 0x7f405150f598> could not be transformed and will be executed as-is. Please report this to the AutoGraph team. When filing the bug, set the verbosity to 10 (on Linux, `export AUTOGRAPH_VERBOSITY=10`) and attach the full output. Cause: converting <function _extract_outputs_from_fn.<locals>.call at 0x7f405150f598>: AttributeError: module 'gast' has no attribute 'Num'\n",
      "WARNING: Entity <function Function._initialize_uninitialized_variables.<locals>.initialize_variables at 0x7f406496c7b8> could not be transformed and will be executed as-is. Please report this to the AutoGraph team. When filing the bug, set the verbosity to 10 (on Linux, `export AUTOGRAPH_VERBOSITY=10`) and attach the full output. Cause: converting <function Function._initialize_uninitialized_variables.<locals>.initialize_variables at 0x7f406496c7b8>: AttributeError: module 'gast' has no attribute 'Num'\n",
      "WARNING: Entity <function _wrap_call_and_conditional_losses.<locals>.call_and_return_conditional_losses at 0x7f4064a24950> could not be transformed and will be executed as-is. Please report this to the AutoGraph team. When filing the bug, set the verbosity to 10 (on Linux, `export AUTOGRAPH_VERBOSITY=10`) and attach the full output. Cause: converting <function _wrap_call_and_conditional_losses.<locals>.call_and_return_conditional_losses at 0x7f4064a24950>: AssertionError: Bad argument number for Name: 3, expecting 4\n",
      "WARNING: Entity <function Function._initialize_uninitialized_variables.<locals>.initialize_variables at 0x7f406496cea0> could not be transformed and will be executed as-is. Please report this to the AutoGraph team. When filing the bug, set the verbosity to 10 (on Linux, `export AUTOGRAPH_VERBOSITY=10`) and attach the full output. Cause: converting <function Function._initialize_uninitialized_variables.<locals>.initialize_variables at 0x7f406496cea0>: AttributeError: module 'gast' has no attribute 'Num'\n",
      "WARNING: Entity <function _wrap_call_and_conditional_losses.<locals>.call_and_return_conditional_losses at 0x7f4064a24950> could not be transformed and will be executed as-is. Please report this to the AutoGraph team. When filing the bug, set the verbosity to 10 (on Linux, `export AUTOGRAPH_VERBOSITY=10`) and attach the full output. Cause: converting <function _wrap_call_and_conditional_losses.<locals>.call_and_return_conditional_losses at 0x7f4064a24950>: AssertionError: Bad argument number for Name: 3, expecting 4\n",
      "WARNING: Entity <function _extract_outputs_from_fn.<locals>.call at 0x7f4064a24a60> could not be transformed and will be executed as-is. Please report this to the AutoGraph team. When filing the bug, set the verbosity to 10 (on Linux, `export AUTOGRAPH_VERBOSITY=10`) and attach the full output. Cause: converting <function _extract_outputs_from_fn.<locals>.call at 0x7f4064a24a60>: AttributeError: module 'gast' has no attribute 'Num'\n",
      "WARNING: Entity <function Function._initialize_uninitialized_variables.<locals>.initialize_variables at 0x7f406492d6a8> could not be transformed and will be executed as-is. Please report this to the AutoGraph team. When filing the bug, set the verbosity to 10 (on Linux, `export AUTOGRAPH_VERBOSITY=10`) and attach the full output. Cause: converting <function Function._initialize_uninitialized_variables.<locals>.initialize_variables at 0x7f406492d6a8>: AttributeError: module 'gast' has no attribute 'Num'\n",
      "WARNING: Entity <function _extract_outputs_from_fn.<locals>.call at 0x7f4064a24a60> could not be transformed and will be executed as-is. Please report this to the AutoGraph team. When filing the bug, set the verbosity to 10 (on Linux, `export AUTOGRAPH_VERBOSITY=10`) and attach the full output. Cause: converting <function _extract_outputs_from_fn.<locals>.call at 0x7f4064a24a60>: AttributeError: module 'gast' has no attribute 'Num'\n",
      "WARNING: Entity <function _wrap_call_and_conditional_losses.<locals>.call_and_return_conditional_losses at 0x7f4064a24c80> could not be transformed and will be executed as-is. Please report this to the AutoGraph team. When filing the bug, set the verbosity to 10 (on Linux, `export AUTOGRAPH_VERBOSITY=10`) and attach the full output. Cause: converting <function _wrap_call_and_conditional_losses.<locals>.call_and_return_conditional_losses at 0x7f4064a24c80>: AssertionError: Bad argument number for Name: 3, expecting 4\n",
      "WARNING: Entity <function Function._initialize_uninitialized_variables.<locals>.initialize_variables at 0x7f40648f92f0> could not be transformed and will be executed as-is. Please report this to the AutoGraph team. When filing the bug, set the verbosity to 10 (on Linux, `export AUTOGRAPH_VERBOSITY=10`) and attach the full output. Cause: converting <function Function._initialize_uninitialized_variables.<locals>.initialize_variables at 0x7f40648f92f0>: AttributeError: module 'gast' has no attribute 'Num'\n",
      "WARNING: Entity <function _extract_outputs_from_fn.<locals>.call at 0x7f4064a24d90> could not be transformed and will be executed as-is. Please report this to the AutoGraph team. When filing the bug, set the verbosity to 10 (on Linux, `export AUTOGRAPH_VERBOSITY=10`) and attach the full output. Cause: converting <function _extract_outputs_from_fn.<locals>.call at 0x7f4064a24d90>: AttributeError: module 'gast' has no attribute 'Num'\n",
      "WARNING: Entity <function Function._initialize_uninitialized_variables.<locals>.initialize_variables at 0x7f40648b9158> could not be transformed and will be executed as-is. Please report this to the AutoGraph team. When filing the bug, set the verbosity to 10 (on Linux, `export AUTOGRAPH_VERBOSITY=10`) and attach the full output. Cause: converting <function Function._initialize_uninitialized_variables.<locals>.initialize_variables at 0x7f40648b9158>: AttributeError: module 'gast' has no attribute 'Num'\n",
      "WARNING: Entity <function _wrap_call_and_conditional_losses.<locals>.call_and_return_conditional_losses at 0x7f4064a24598> could not be transformed and will be executed as-is. Please report this to the AutoGraph team. When filing the bug, set the verbosity to 10 (on Linux, `export AUTOGRAPH_VERBOSITY=10`) and attach the full output. Cause: converting <function _wrap_call_and_conditional_losses.<locals>.call_and_return_conditional_losses at 0x7f4064a24598>: AssertionError: Bad argument number for Name: 3, expecting 4\n",
      "WARNING: Entity <function Function._initialize_uninitialized_variables.<locals>.initialize_variables at 0x7f40648b9d90> could not be transformed and will be executed as-is. Please report this to the AutoGraph team. When filing the bug, set the verbosity to 10 (on Linux, `export AUTOGRAPH_VERBOSITY=10`) and attach the full output. Cause: converting <function Function._initialize_uninitialized_variables.<locals>.initialize_variables at 0x7f40648b9d90>: AttributeError: module 'gast' has no attribute 'Num'\n",
      "WARNING: Entity <function _wrap_call_and_conditional_losses.<locals>.call_and_return_conditional_losses at 0x7f4064a24598> could not be transformed and will be executed as-is. Please report this to the AutoGraph team. When filing the bug, set the verbosity to 10 (on Linux, `export AUTOGRAPH_VERBOSITY=10`) and attach the full output. Cause: converting <function _wrap_call_and_conditional_losses.<locals>.call_and_return_conditional_losses at 0x7f4064a24598>: AssertionError: Bad argument number for Name: 3, expecting 4\n",
      "WARNING: Entity <function _extract_outputs_from_fn.<locals>.call at 0x7f4064a246a8> could not be transformed and will be executed as-is. Please report this to the AutoGraph team. When filing the bug, set the verbosity to 10 (on Linux, `export AUTOGRAPH_VERBOSITY=10`) and attach the full output. Cause: converting <function _extract_outputs_from_fn.<locals>.call at 0x7f4064a246a8>: AttributeError: module 'gast' has no attribute 'Num'\n",
      "WARNING: Entity <function Function._initialize_uninitialized_variables.<locals>.initialize_variables at 0x7f4064865b70> could not be transformed and will be executed as-is. Please report this to the AutoGraph team. When filing the bug, set the verbosity to 10 (on Linux, `export AUTOGRAPH_VERBOSITY=10`) and attach the full output. Cause: converting <function Function._initialize_uninitialized_variables.<locals>.initialize_variables at 0x7f4064865b70>: AttributeError: module 'gast' has no attribute 'Num'\n",
      "WARNING: Entity <function _extract_outputs_from_fn.<locals>.call at 0x7f4064a246a8> could not be transformed and will be executed as-is. Please report this to the AutoGraph team. When filing the bug, set the verbosity to 10 (on Linux, `export AUTOGRAPH_VERBOSITY=10`) and attach the full output. Cause: converting <function _extract_outputs_from_fn.<locals>.call at 0x7f4064a246a8>: AttributeError: module 'gast' has no attribute 'Num'\n",
      "WARNING: Entity <function _wrap_call_and_conditional_losses.<locals>.call_and_return_conditional_losses at 0x7f40649c3048> could not be transformed and will be executed as-is. Please report this to the AutoGraph team. When filing the bug, set the verbosity to 10 (on Linux, `export AUTOGRAPH_VERBOSITY=10`) and attach the full output. Cause: converting <function _wrap_call_and_conditional_losses.<locals>.call_and_return_conditional_losses at 0x7f40649c3048>: AssertionError: Bad argument number for Name: 3, expecting 4\n",
      "WARNING: Entity <function Function._initialize_uninitialized_variables.<locals>.initialize_variables at 0x7f4064832378> could not be transformed and will be executed as-is. Please report this to the AutoGraph team. When filing the bug, set the verbosity to 10 (on Linux, `export AUTOGRAPH_VERBOSITY=10`) and attach the full output. Cause: converting <function Function._initialize_uninitialized_variables.<locals>.initialize_variables at 0x7f4064832378>: AttributeError: module 'gast' has no attribute 'Num'\n",
      "WARNING: Entity <function _extract_outputs_from_fn.<locals>.call at 0x7f40649c3158> could not be transformed and will be executed as-is. Please report this to the AutoGraph team. When filing the bug, set the verbosity to 10 (on Linux, `export AUTOGRAPH_VERBOSITY=10`) and attach the full output. Cause: converting <function _extract_outputs_from_fn.<locals>.call at 0x7f40649c3158>: AttributeError: module 'gast' has no attribute 'Num'\n",
      "WARNING: Entity <function Function._initialize_uninitialized_variables.<locals>.initialize_variables at 0x7f40647f5488> could not be transformed and will be executed as-is. Please report this to the AutoGraph team. When filing the bug, set the verbosity to 10 (on Linux, `export AUTOGRAPH_VERBOSITY=10`) and attach the full output. Cause: converting <function Function._initialize_uninitialized_variables.<locals>.initialize_variables at 0x7f40647f5488>: AttributeError: module 'gast' has no attribute 'Num'\n",
      "WARNING: Entity <function _wrap_call_and_conditional_losses.<locals>.call_and_return_conditional_losses at 0x7f40649c3378> could not be transformed and will be executed as-is. Please report this to the AutoGraph team. When filing the bug, set the verbosity to 10 (on Linux, `export AUTOGRAPH_VERBOSITY=10`) and attach the full output. Cause: converting <function _wrap_call_and_conditional_losses.<locals>.call_and_return_conditional_losses at 0x7f40649c3378>: AssertionError: Bad argument number for Name: 3, expecting 4\n",
      "WARNING: Entity <function Function._initialize_uninitialized_variables.<locals>.initialize_variables at 0x7f40647f5d08> could not be transformed and will be executed as-is. Please report this to the AutoGraph team. When filing the bug, set the verbosity to 10 (on Linux, `export AUTOGRAPH_VERBOSITY=10`) and attach the full output. Cause: converting <function Function._initialize_uninitialized_variables.<locals>.initialize_variables at 0x7f40647f5d08>: AttributeError: module 'gast' has no attribute 'Num'\n",
      "WARNING: Entity <function _wrap_call_and_conditional_losses.<locals>.call_and_return_conditional_losses at 0x7f40649c3378> could not be transformed and will be executed as-is. Please report this to the AutoGraph team. When filing the bug, set the verbosity to 10 (on Linux, `export AUTOGRAPH_VERBOSITY=10`) and attach the full output. Cause: converting <function _wrap_call_and_conditional_losses.<locals>.call_and_return_conditional_losses at 0x7f40649c3378>: AssertionError: Bad argument number for Name: 3, expecting 4\n",
      "WARNING: Entity <function _extract_outputs_from_fn.<locals>.call at 0x7f40649c3488> could not be transformed and will be executed as-is. Please report this to the AutoGraph team. When filing the bug, set the verbosity to 10 (on Linux, `export AUTOGRAPH_VERBOSITY=10`) and attach the full output. Cause: converting <function _extract_outputs_from_fn.<locals>.call at 0x7f40649c3488>: AttributeError: module 'gast' has no attribute 'Num'\n",
      "WARNING: Entity <function Function._initialize_uninitialized_variables.<locals>.initialize_variables at 0x7f406479de18> could not be transformed and will be executed as-is. Please report this to the AutoGraph team. When filing the bug, set the verbosity to 10 (on Linux, `export AUTOGRAPH_VERBOSITY=10`) and attach the full output. Cause: converting <function Function._initialize_uninitialized_variables.<locals>.initialize_variables at 0x7f406479de18>: AttributeError: module 'gast' has no attribute 'Num'\n",
      "WARNING: Entity <function _extract_outputs_from_fn.<locals>.call at 0x7f40649c3488> could not be transformed and will be executed as-is. Please report this to the AutoGraph team. When filing the bug, set the verbosity to 10 (on Linux, `export AUTOGRAPH_VERBOSITY=10`) and attach the full output. Cause: converting <function _extract_outputs_from_fn.<locals>.call at 0x7f40649c3488>: AttributeError: module 'gast' has no attribute 'Num'\n",
      "WARNING: Entity <function _wrap_call_and_conditional_losses.<locals>.call_and_return_conditional_losses at 0x7f40649c36a8> could not be transformed and will be executed as-is. Please report this to the AutoGraph team. When filing the bug, set the verbosity to 10 (on Linux, `export AUTOGRAPH_VERBOSITY=10`) and attach the full output. Cause: converting <function _wrap_call_and_conditional_losses.<locals>.call_and_return_conditional_losses at 0x7f40649c36a8>: AssertionError: Bad argument number for Name: 3, expecting 4\n",
      "WARNING: Entity <function Function._initialize_uninitialized_variables.<locals>.initialize_variables at 0x7f4064777ea0> could not be transformed and will be executed as-is. Please report this to the AutoGraph team. When filing the bug, set the verbosity to 10 (on Linux, `export AUTOGRAPH_VERBOSITY=10`) and attach the full output. Cause: converting <function Function._initialize_uninitialized_variables.<locals>.initialize_variables at 0x7f4064777ea0>: AttributeError: module 'gast' has no attribute 'Num'\n",
      "WARNING: Entity <function _extract_outputs_from_fn.<locals>.call at 0x7f40649c37b8> could not be transformed and will be executed as-is. Please report this to the AutoGraph team. When filing the bug, set the verbosity to 10 (on Linux, `export AUTOGRAPH_VERBOSITY=10`) and attach the full output. Cause: converting <function _extract_outputs_from_fn.<locals>.call at 0x7f40649c37b8>: AttributeError: module 'gast' has no attribute 'Num'\n",
      "WARNING: Entity <function Function._initialize_uninitialized_variables.<locals>.initialize_variables at 0x7f4064725268> could not be transformed and will be executed as-is. Please report this to the AutoGraph team. When filing the bug, set the verbosity to 10 (on Linux, `export AUTOGRAPH_VERBOSITY=10`) and attach the full output. Cause: converting <function Function._initialize_uninitialized_variables.<locals>.initialize_variables at 0x7f4064725268>: AttributeError: module 'gast' has no attribute 'Num'\n",
      "WARNING: Entity <function Function._initialize_uninitialized_variables.<locals>.initialize_variables at 0x7f40649f66a8> could not be transformed and will be executed as-is. Please report this to the AutoGraph team. When filing the bug, set the verbosity to 10 (on Linux, `export AUTOGRAPH_VERBOSITY=10`) and attach the full output. Cause: converting <function Function._initialize_uninitialized_variables.<locals>.initialize_variables at 0x7f40649f66a8>: AttributeError: module 'gast' has no attribute 'Num'\n",
      "WARNING: Entity <function _wrap_call_and_conditional_losses.<locals>.call_and_return_conditional_losses at 0x7f40649c39d8> could not be transformed and will be executed as-is. Please report this to the AutoGraph team. When filing the bug, set the verbosity to 10 (on Linux, `export AUTOGRAPH_VERBOSITY=10`) and attach the full output. Cause: converting <function _wrap_call_and_conditional_losses.<locals>.call_and_return_conditional_losses at 0x7f40649c39d8>: AssertionError: Bad argument number for Name: 3, expecting 4\n",
      "WARNING: Entity <function _extract_outputs_from_fn.<locals>.call at 0x7f40649f6510> could not be transformed and will be executed as-is. Please report this to the AutoGraph team. When filing the bug, set the verbosity to 10 (on Linux, `export AUTOGRAPH_VERBOSITY=10`) and attach the full output. Cause: converting <function _extract_outputs_from_fn.<locals>.call at 0x7f40649f6510>: AttributeError: module 'gast' has no attribute 'Num'\n",
      "WARNING: Entity <function _wrap_call_and_conditional_losses.<locals>.call_and_return_conditional_losses at 0x7f40649c39d8> could not be transformed and will be executed as-is. Please report this to the AutoGraph team. When filing the bug, set the verbosity to 10 (on Linux, `export AUTOGRAPH_VERBOSITY=10`) and attach the full output. Cause: converting <function _wrap_call_and_conditional_losses.<locals>.call_and_return_conditional_losses at 0x7f40649c39d8>: AssertionError: Bad argument number for Name: 3, expecting 4\n",
      "WARNING: Entity <function Function._initialize_uninitialized_variables.<locals>.initialize_variables at 0x7f40647250d0> could not be transformed and will be executed as-is. Please report this to the AutoGraph team. When filing the bug, set the verbosity to 10 (on Linux, `export AUTOGRAPH_VERBOSITY=10`) and attach the full output. Cause: converting <function Function._initialize_uninitialized_variables.<locals>.initialize_variables at 0x7f40647250d0>: AttributeError: module 'gast' has no attribute 'Num'\n",
      "WARNING: Entity <function _extract_outputs_from_fn.<locals>.call at 0x7f40649f6510> could not be transformed and will be executed as-is. Please report this to the AutoGraph team. When filing the bug, set the verbosity to 10 (on Linux, `export AUTOGRAPH_VERBOSITY=10`) and attach the full output. Cause: converting <function _extract_outputs_from_fn.<locals>.call at 0x7f40649f6510>: AttributeError: module 'gast' has no attribute 'Num'\n",
      "WARNING: Entity <function _wrap_call_and_conditional_losses.<locals>.call_and_return_conditional_losses at 0x7f40649c39d8> could not be transformed and will be executed as-is. Please report this to the AutoGraph team. When filing the bug, set the verbosity to 10 (on Linux, `export AUTOGRAPH_VERBOSITY=10`) and attach the full output. Cause: converting <function _wrap_call_and_conditional_losses.<locals>.call_and_return_conditional_losses at 0x7f40649c39d8>: AssertionError: Bad argument number for Name: 3, expecting 4\n",
      "WARNING: Entity <function canonicalize_signatures.<locals>.signature_wrapper at 0x7f40649c38c8> could not be transformed and will be executed as-is. Please report this to the AutoGraph team. When filing the bug, set the verbosity to 10 (on Linux, `export AUTOGRAPH_VERBOSITY=10`) and attach the full output. Cause: converting <function canonicalize_signatures.<locals>.signature_wrapper at 0x7f40649c38c8>: AssertionError: Bad argument number for Name: 3, expecting 4\n",
      "WARNING: Entity <function Function._initialize_uninitialized_variables.<locals>.initialize_variables at 0x7f40645d57b8> could not be transformed and will be executed as-is. Please report this to the AutoGraph team. When filing the bug, set the verbosity to 10 (on Linux, `export AUTOGRAPH_VERBOSITY=10`) and attach the full output. Cause: converting <function Function._initialize_uninitialized_variables.<locals>.initialize_variables at 0x7f40645d57b8>: AttributeError: module 'gast' has no attribute 'Num'\n"
     ]
    }
   ],
   "source": [
    "t = time.time()\n",
    "\n",
    "savedModel_directory = './{}'.format(int(t))\n",
    "\n",
    "tf.saved_model.save(model, savedModel_directory)"
   ]
  },
  {
   "cell_type": "markdown",
   "metadata": {
    "colab_type": "text",
    "id": "DBY1j0QEyjPi"
   },
   "source": [
    "Once a model has been saved as a SavedModel, we can use `tf.saved_model.load(export_dir)` to re-load our model. "
   ]
  },
  {
   "cell_type": "code",
   "execution_count": 17,
   "metadata": {
    "colab": {},
    "colab_type": "code",
    "id": "rRx2y2M4AtKl"
   },
   "outputs": [],
   "source": [
    "reloaded_SavedModel = tf.saved_model.load(savedModel_directory)"
   ]
  },
  {
   "cell_type": "markdown",
   "metadata": {
    "colab_type": "text",
    "id": "wJwmzT1gAwew"
   },
   "source": [
    "It's important to note that the object returned by `tf.saved_model.load` is **NOT** a Keras object. Therefore, it doesn't have `.fit`, `.predict`, `.summary`, etc. methods. It is 100% independent of the code that created it. This means that in order to make predictions with our `reloaded_SavedModel` we need to use a different method than the one used with the re-loaded Keras model.\n",
    "\n",
    "To make predictions on a batch of images with a re-loaded SavedModel we have to use:\n",
    "\n",
    "```python\n",
    "reloaded_SavedModel(image_batch, training=False)\n",
    "```\n",
    "\n",
    "This will return a tensor with the predicted label probabilities for each image in the batch. Again, since we haven't done anything new to this re-loaded SavedModel, then both the `reloaded_SavedModel` and our original `model` should be identical copies. Therefore, they should make the same predictions on the same images. Let's check that this is true:"
   ]
  },
  {
   "cell_type": "code",
   "execution_count": 18,
   "metadata": {
    "colab": {
     "base_uri": "https://localhost:8080/",
     "height": 34
    },
    "colab_type": "code",
    "id": "ozMqD1ZoER5g",
    "outputId": "17769afa-1a1f-48c4-80e5-a389c80f4062"
   },
   "outputs": [
    {
     "name": "stdout",
     "output_type": "stream",
     "text": [
      "1.7881393e-07\n"
     ]
    }
   ],
   "source": [
    "for image_batch, label_batch in testing_batches.take(1):\n",
    "    prediction_1 = model.predict(image_batch)\n",
    "    prediction_2 = reloaded_SavedModel(image_batch, training=False).numpy()\n",
    "    difference = np.abs(prediction_1 - prediction_2)\n",
    "    print(difference.max())"
   ]
  },
  {
   "cell_type": "markdown",
   "metadata": {
    "colab_type": "text",
    "id": "3QZNNPkYFH3D"
   },
   "source": [
    "We can also get back a full Keras model, from a TensorFlow SavedModel, by loading our SavedModel with the `tf.keras.models.load_model` function. "
   ]
  },
  {
   "cell_type": "code",
   "execution_count": 19,
   "metadata": {
    "colab": {
     "base_uri": "https://localhost:8080/",
     "height": 425
    },
    "colab_type": "code",
    "collapsed": true,
    "id": "0BxFJcGLyMTD",
    "outputId": "a2fefa76-57b5-4a9e-8c05-b8a1ae7f31a2"
   },
   "outputs": [
    {
     "name": "stdout",
     "output_type": "stream",
     "text": [
      "WARNING: Entity <bound method RevivedLayer.call of <tensorflow.python.keras.saving.saved_model.Flatten object at 0x7f405d692cf8>> could not be transformed and will be executed as-is. Please report this to the AutoGraph team. When filing the bug, set the verbosity to 10 (on Linux, `export AUTOGRAPH_VERBOSITY=10`) and attach the full output. Cause: converting <bound method RevivedLayer.call of <tensorflow.python.keras.saving.saved_model.Flatten object at 0x7f405d692cf8>>: AssertionError: Bad argument number for Name: 3, expecting 4\n",
      "WARNING: Entity <bound method RevivedLayer.call of <tensorflow.python.keras.saving.saved_model.Dense object at 0x7f405d692908>> could not be transformed and will be executed as-is. Please report this to the AutoGraph team. When filing the bug, set the verbosity to 10 (on Linux, `export AUTOGRAPH_VERBOSITY=10`) and attach the full output. Cause: converting <bound method RevivedLayer.call of <tensorflow.python.keras.saving.saved_model.Dense object at 0x7f405d692908>>: AssertionError: Bad argument number for Name: 3, expecting 4\n",
      "WARNING: Entity <bound method RevivedLayer.call of <tensorflow.python.keras.saving.saved_model.Dropout object at 0x7f405d697438>> could not be transformed and will be executed as-is. Please report this to the AutoGraph team. When filing the bug, set the verbosity to 10 (on Linux, `export AUTOGRAPH_VERBOSITY=10`) and attach the full output. Cause: converting <bound method RevivedLayer.call of <tensorflow.python.keras.saving.saved_model.Dropout object at 0x7f405d697438>>: AssertionError: Bad argument number for Name: 3, expecting 4\n",
      "WARNING: Entity <bound method RevivedLayer.call of <tensorflow.python.keras.saving.saved_model.Dense object at 0x7f405d6977b8>> could not be transformed and will be executed as-is. Please report this to the AutoGraph team. When filing the bug, set the verbosity to 10 (on Linux, `export AUTOGRAPH_VERBOSITY=10`) and attach the full output. Cause: converting <bound method RevivedLayer.call of <tensorflow.python.keras.saving.saved_model.Dense object at 0x7f405d6977b8>>: AssertionError: Bad argument number for Name: 3, expecting 4\n",
      "WARNING: Entity <bound method RevivedLayer.call of <tensorflow.python.keras.saving.saved_model.Dropout object at 0x7f405d697908>> could not be transformed and will be executed as-is. Please report this to the AutoGraph team. When filing the bug, set the verbosity to 10 (on Linux, `export AUTOGRAPH_VERBOSITY=10`) and attach the full output. Cause: converting <bound method RevivedLayer.call of <tensorflow.python.keras.saving.saved_model.Dropout object at 0x7f405d697908>>: AssertionError: Bad argument number for Name: 3, expecting 4\n",
      "WARNING: Entity <bound method RevivedLayer.call of <tensorflow.python.keras.saving.saved_model.Dense object at 0x7f407555ccf8>> could not be transformed and will be executed as-is. Please report this to the AutoGraph team. When filing the bug, set the verbosity to 10 (on Linux, `export AUTOGRAPH_VERBOSITY=10`) and attach the full output. Cause: converting <bound method RevivedLayer.call of <tensorflow.python.keras.saving.saved_model.Dense object at 0x7f407555ccf8>>: AssertionError: Bad argument number for Name: 3, expecting 4\n",
      "WARNING: Entity <bound method RevivedLayer.call of <tensorflow.python.keras.saving.saved_model.Dropout object at 0x7f405d697da0>> could not be transformed and will be executed as-is. Please report this to the AutoGraph team. When filing the bug, set the verbosity to 10 (on Linux, `export AUTOGRAPH_VERBOSITY=10`) and attach the full output. Cause: converting <bound method RevivedLayer.call of <tensorflow.python.keras.saving.saved_model.Dropout object at 0x7f405d697da0>>: AssertionError: Bad argument number for Name: 3, expecting 4\n",
      "WARNING: Entity <bound method RevivedLayer.call of <tensorflow.python.keras.saving.saved_model.Dense object at 0x7f405d69e160>> could not be transformed and will be executed as-is. Please report this to the AutoGraph team. When filing the bug, set the verbosity to 10 (on Linux, `export AUTOGRAPH_VERBOSITY=10`) and attach the full output. Cause: converting <bound method RevivedLayer.call of <tensorflow.python.keras.saving.saved_model.Dense object at 0x7f405d69e160>>: AssertionError: Bad argument number for Name: 3, expecting 4\n",
      "Model: \"sequential\"\n",
      "_________________________________________________________________\n",
      "Layer (type)                 Output Shape              Param #   \n",
      "=================================================================\n",
      "flatten (Flatten)            (None, 784)               0         \n",
      "_________________________________________________________________\n",
      "dense (Dense)                (None, 512)               401920    \n",
      "_________________________________________________________________\n",
      "dropout (Dropout)            (None, 512)               0         \n",
      "_________________________________________________________________\n",
      "dense_1 (Dense)              (None, 256)               131328    \n",
      "_________________________________________________________________\n",
      "dropout_1 (Dropout)          (None, 256)               0         \n",
      "_________________________________________________________________\n",
      "dense_2 (Dense)              (None, 128)               32896     \n",
      "_________________________________________________________________\n",
      "dropout_2 (Dropout)          (None, 128)               0         \n",
      "_________________________________________________________________\n",
      "dense_3 (Dense)              (None, 10)                1290      \n",
      "=================================================================\n",
      "Total params: 567,434\n",
      "Trainable params: 567,434\n",
      "Non-trainable params: 0\n",
      "_________________________________________________________________\n"
     ]
    }
   ],
   "source": [
    "reloaded_keras_model_from_SavedModel = tf.keras.models.load_model(savedModel_directory)\n",
    "\n",
    "reloaded_keras_model_from_SavedModel.summary()"
   ]
  },
  {
   "cell_type": "markdown",
   "metadata": {
    "colab_type": "text",
    "id": "FomAlrxnQnm8"
   },
   "source": [
    "## Saving Models During Training\n",
    "\n",
    "We have seen that when we train a model with a validation set, the value of the validation loss changes through the training process. Since the value of the validation loss is an indicator of how well our model will generalize to new data, it will be great if could save our model at each step of the training process and then only keep the version with the lowest validation loss. \n",
    "\n",
    "We can do this in `tf.keras` by using the following callback:\n",
    "\n",
    "```python\n",
    "tf.keras.callbacks.ModelCheckpoint('./best_model.h5', monitor='val_loss', save_best_only=True)\n",
    "```\n",
    "This callback will save the model as a Keras HDF5 file after every epoch. With the `save_best_only=True` argument, this callback will first check the validation loss of the latest model against the one previously saved. The callback will only save the latest model and overwrite the old one, if the latest model has a lower validation loss than the one previously saved. This will guarantee that will end up with the version of the model that achieved the lowest validation loss during training."
   ]
  },
  {
   "cell_type": "code",
   "execution_count": 20,
   "metadata": {
    "colab": {
     "base_uri": "https://localhost:8080/",
     "height": 765
    },
    "colab_type": "code",
    "id": "vvsuAeUQ1WKR",
    "outputId": "b8ee7834-f46e-4141-d61c-83cd7d72a333"
   },
   "outputs": [
    {
     "name": "stdout",
     "output_type": "stream",
     "text": [
      "Epoch 1/100\n",
      "657/657 [==============================] - 26s 39ms/step - loss: 0.5392 - accuracy: 0.8062 - val_loss: 0.0000e+00 - val_accuracy: 0.0000e+00\n",
      "Epoch 2/100\n",
      "657/657 [==============================] - 23s 36ms/step - loss: 0.3876 - accuracy: 0.8574 - val_loss: 0.3753 - val_accuracy: 0.8634\n",
      "Epoch 3/100\n",
      "657/657 [==============================] - 23s 35ms/step - loss: 0.3479 - accuracy: 0.8715 - val_loss: 0.3563 - val_accuracy: 0.8699\n",
      "Epoch 4/100\n",
      "657/657 [==============================] - 23s 35ms/step - loss: 0.3190 - accuracy: 0.8815 - val_loss: 0.3558 - val_accuracy: 0.8718\n",
      "Epoch 5/100\n",
      "657/657 [==============================] - 23s 35ms/step - loss: 0.2971 - accuracy: 0.8883 - val_loss: 0.3659 - val_accuracy: 0.8682\n",
      "Epoch 6/100\n",
      "657/657 [==============================] - 23s 35ms/step - loss: 0.2800 - accuracy: 0.8947 - val_loss: 0.3539 - val_accuracy: 0.8749\n",
      "Epoch 7/100\n",
      "657/657 [==============================] - 23s 35ms/step - loss: 0.2670 - accuracy: 0.8994 - val_loss: 0.3608 - val_accuracy: 0.8766\n",
      "Epoch 8/100\n",
      "657/657 [==============================] - 23s 36ms/step - loss: 0.2547 - accuracy: 0.9031 - val_loss: 0.3575 - val_accuracy: 0.8776\n",
      "Epoch 9/100\n",
      "657/657 [==============================] - 23s 35ms/step - loss: 0.2403 - accuracy: 0.9083 - val_loss: 0.3736 - val_accuracy: 0.8749\n",
      "Epoch 10/100\n",
      "657/657 [==============================] - 23s 35ms/step - loss: 0.2335 - accuracy: 0.9105 - val_loss: 0.3686 - val_accuracy: 0.8781\n",
      "Epoch 11/100\n",
      "657/657 [==============================] - 23s 35ms/step - loss: 0.2215 - accuracy: 0.9147 - val_loss: 0.3789 - val_accuracy: 0.8774\n",
      "Epoch 12/100\n",
      "657/657 [==============================] - 23s 35ms/step - loss: 0.2131 - accuracy: 0.9204 - val_loss: 0.3524 - val_accuracy: 0.8820\n",
      "Epoch 13/100\n",
      "657/657 [==============================] - 23s 35ms/step - loss: 0.2018 - accuracy: 0.9244 - val_loss: 0.3825 - val_accuracy: 0.8779\n",
      "Epoch 14/100\n",
      "657/657 [==============================] - 23s 35ms/step - loss: 0.1971 - accuracy: 0.9241 - val_loss: 0.3702 - val_accuracy: 0.8805\n",
      "Epoch 15/100\n",
      "657/657 [==============================] - 23s 36ms/step - loss: 0.1890 - accuracy: 0.9278 - val_loss: 0.3832 - val_accuracy: 0.8773\n",
      "Epoch 16/100\n",
      "657/657 [==============================] - 23s 35ms/step - loss: 0.1829 - accuracy: 0.9308 - val_loss: 0.3961 - val_accuracy: 0.8756\n",
      "Epoch 17/100\n",
      "657/657 [==============================] - 23s 36ms/step - loss: 0.1775 - accuracy: 0.9326 - val_loss: 0.3965 - val_accuracy: 0.8717\n",
      "Epoch 18/100\n",
      "657/657 [==============================] - 23s 35ms/step - loss: 0.1692 - accuracy: 0.9364 - val_loss: 0.3926 - val_accuracy: 0.8825\n",
      "Epoch 19/100\n",
      "657/657 [==============================] - 23s 36ms/step - loss: 0.1617 - accuracy: 0.9384 - val_loss: 0.3952 - val_accuracy: 0.8828\n",
      "Epoch 20/100\n",
      "657/657 [==============================] - 23s 35ms/step - loss: 0.1625 - accuracy: 0.9383 - val_loss: 0.4189 - val_accuracy: 0.8757\n",
      "Epoch 21/100\n",
      "657/657 [==============================] - 23s 35ms/step - loss: 0.1546 - accuracy: 0.9414 - val_loss: 0.4226 - val_accuracy: 0.8689\n",
      "Epoch 22/100\n",
      "657/657 [==============================] - 23s 35ms/step - loss: 0.1533 - accuracy: 0.9417 - val_loss: 0.4154 - val_accuracy: 0.8769\n"
     ]
    }
   ],
   "source": [
    "model = tf.keras.Sequential([\n",
    "        tf.keras.layers.Flatten(input_shape=(28,28,1)),\n",
    "        tf.keras.layers.Dense(256, activation = 'relu'),\n",
    "        tf.keras.layers.Dense(128, activation = 'relu'),\n",
    "        tf.keras.layers.Dense(64, activation = 'relu'),\n",
    "        tf.keras.layers.Dense(10, activation = 'softmax')\n",
    "])\n",
    "\n",
    "model.compile(optimizer='adam',\n",
    "              loss='sparse_categorical_crossentropy',\n",
    "              metrics=['accuracy'])\n",
    "\n",
    "# Stop training when there is no improvement in the validation loss for 10 consecutive epochs\n",
    "early_stopping = tf.keras.callbacks.EarlyStopping(monitor='val_loss', patience=10)\n",
    "\n",
    "# Save the Model with the lowest validation loss\n",
    "save_best = tf.keras.callbacks.ModelCheckpoint('./best_model.h5',\n",
    "                                               monitor='val_loss',\n",
    "                                               save_best_only=True)\n",
    "\n",
    "history = model.fit(training_batches,\n",
    "                    epochs = 100,\n",
    "                    validation_data=validation_batches,\n",
    "                    callbacks=[early_stopping, save_best])"
   ]
  },
  {
   "cell_type": "code",
   "execution_count": null,
   "metadata": {
    "colab": {},
    "colab_type": "code",
    "id": "sz4snGQsR2Mg"
   },
   "outputs": [],
   "source": []
  }
 ],
 "metadata": {
  "accelerator": "GPU",
  "colab": {
   "collapsed_sections": [],
   "name": "Part 6 - Saving and Loading Models.ipynb",
   "provenance": []
  },
  "kernelspec": {
   "display_name": "Python 3",
   "language": "python",
   "name": "python3"
  },
  "language_info": {
   "codemirror_mode": {
    "name": "ipython",
    "version": 3
   },
   "file_extension": ".py",
   "mimetype": "text/x-python",
   "name": "python",
   "nbconvert_exporter": "python",
   "pygments_lexer": "ipython3",
   "version": "3.6.13"
  },
  "varInspector": {
   "cols": {
    "lenName": 16,
    "lenType": 16,
    "lenVar": 40
   },
   "kernels_config": {
    "python": {
     "delete_cmd_postfix": "",
     "delete_cmd_prefix": "del ",
     "library": "var_list.py",
     "varRefreshCmd": "print(var_dic_list())"
    },
    "r": {
     "delete_cmd_postfix": ") ",
     "delete_cmd_prefix": "rm(",
     "library": "var_list.r",
     "varRefreshCmd": "cat(var_dic_list()) "
    }
   },
   "types_to_exclude": [
    "module",
    "function",
    "builtin_function_or_method",
    "instance",
    "_Feature"
   ],
   "window_display": false
  }
 },
 "nbformat": 4,
 "nbformat_minor": 1
}
